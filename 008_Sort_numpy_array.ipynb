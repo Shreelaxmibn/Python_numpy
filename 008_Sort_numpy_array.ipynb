{
 "cells": [
  {
   "cell_type": "code",
   "execution_count": 1,
   "id": "11d02724",
   "metadata": {},
   "outputs": [
    {
     "name": "stdout",
     "output_type": "stream",
     "text": [
      "[1, 1, 2, 3, 3, 4, 5, 5, 5, 6, 9]\n",
      "[9, 6, 5, 5, 5, 4, 3, 3, 2, 1, 1]\n"
     ]
    }
   ],
   "source": [
    "my_list = [3, 1, 4, 1, 5, 9, 2, 6, 5, 3, 5]\n",
    "sorted_list = sorted(my_list)  # Sort the list in ascending order\n",
    "print(sorted_list)  # Output: [1, 1, 2, 3, 3, 4, 5, 5, 5, 6, 9]\n",
    "\n",
    "# If you want to sort in descending order:\n",
    "sorted_list_desc = sorted(my_list, reverse=True)\n",
    "print(sorted_list_desc)  # Output: [9, 6, 5, 5, 5, 4, 3, 3, 2, 1, 1]\n",
    "\n",
    "# Note that sorted() does not modify the original list; it returns a new sorted list.\n"
   ]
  },
  {
   "cell_type": "code",
   "execution_count": 2,
   "id": "e8391dae",
   "metadata": {},
   "outputs": [
    {
     "name": "stdout",
     "output_type": "stream",
     "text": [
      "[1 1 2 3 3 4 5 5 5 6 9]\n",
      "[9 6 5 5 5 4 3 3 2 1 1]\n"
     ]
    }
   ],
   "source": [
    "import numpy as np\n",
    "\n",
    "my_array = np.array([3, 1, 4, 1, 5, 9, 2, 6, 5, 3, 5])\n",
    "my_array.sort()  # Sort the NumPy array in ascending order in-place\n",
    "print(my_array)  # Output: [1 1 2 3 3 4 5 5 5 6 9]\n",
    "\n",
    "# If you want to sort in descending order, you can reverse the array using slicing:\n",
    "my_array_desc = my_array[::-1]\n",
    "print(my_array_desc)  # Output: [9 6 5 5 5 4 3 3 2 1 1]\n",
    "\n",
    "# Note that sort() modifies the original array in-place.\n"
   ]
  },
  {
   "cell_type": "code",
   "execution_count": 3,
   "id": "1d691a33",
   "metadata": {},
   "outputs": [
    {
     "name": "stdout",
     "output_type": "stream",
     "text": [
      "[1, 1, 2, 3, 3, 4, 5, 5, 5, 6, 9]\n"
     ]
    }
   ],
   "source": [
    "# Example 1: Sorting a list in ascending order using sorted()\n",
    "my_list = [3, 1, 4, 1, 5, 9, 2, 6, 5, 3, 5]\n",
    "sorted_list = sorted(my_list)  # Sort the list in ascending order\n",
    "print(sorted_list)  # Output: [1, 1, 2, 3, 3, 4, 5, 5, 5, 6, 9]"
   ]
  },
  {
   "cell_type": "code",
   "execution_count": 5,
   "id": "3d1a6143",
   "metadata": {},
   "outputs": [
    {
     "name": "stdout",
     "output_type": "stream",
     "text": [
      "[9, 6, 5, 5, 5, 4, 3, 3, 2, 1, 1]\n"
     ]
    }
   ],
   "source": [
    "# Example 2: Sorting a list in descending order using sorted()\n",
    "sorted_list_desc = sorted(my_list, reverse=True)\n",
    "print(sorted_list_desc)  # Output: [9, 6, 5, 5, 5, 4, 3, 3, 2, 1, 1]"
   ]
  },
  {
   "cell_type": "code",
   "execution_count": 4,
   "id": "936d6d60",
   "metadata": {},
   "outputs": [
    {
     "name": "stdout",
     "output_type": "stream",
     "text": [
      "[1 1 2 3 3 4 5 5 5 6 9]\n"
     ]
    }
   ],
   "source": [
    "# Example 3: Sorting a NumPy array in ascending order using sort()\n",
    "import numpy as np\n",
    "my_array = np.array([3, 1, 4, 1, 5, 9, 2, 6, 5, 3, 5])\n",
    "my_array.sort()  # Sort the NumPy array in ascending order in-place\n",
    "print(my_array)  # Output: [1 1 2 3 3 4 5 5 5 6 9]"
   ]
  },
  {
   "cell_type": "code",
   "execution_count": 6,
   "id": "b4d4ce75",
   "metadata": {},
   "outputs": [
    {
     "name": "stdout",
     "output_type": "stream",
     "text": [
      "[9 6 5 5 5 4 3 3 2 1 1]\n"
     ]
    }
   ],
   "source": [
    "# Example 4: Sorting a NumPy array in descending order using sort()\n",
    "my_array_desc = np.sort(my_array)[::-1]\n",
    "print(my_array_desc)  # Output: [9 6 5 5 5 4 3 3 2 1 1]"
   ]
  },
  {
   "cell_type": "code",
   "execution_count": 7,
   "id": "efb7545d",
   "metadata": {},
   "outputs": [
    {
     "name": "stdout",
     "output_type": "stream",
     "text": [
      "['apple', 'banana', 'cherry', 'date', 'elderberry']\n"
     ]
    }
   ],
   "source": [
    "# Example 5: Sorting a list of strings in alphabetical order\n",
    "my_strings = [\"apple\", \"banana\", \"cherry\", \"date\", \"elderberry\"]\n",
    "sorted_strings = sorted(my_strings)\n",
    "print(sorted_strings)  # Output: ['apple', 'banana', 'cherry', 'date', 'elderberry']"
   ]
  },
  {
   "cell_type": "code",
   "execution_count": 9,
   "id": "4a6a201d",
   "metadata": {},
   "outputs": [
    {
     "name": "stdout",
     "output_type": "stream",
     "text": [
      "[[3 1 2]\n",
      " [6 5 4]\n",
      " [9 8 7]]\n"
     ]
    }
   ],
   "source": [
    "# Example 6: Sorting a NumPy array in ascending order along a specified axis\n",
    "matrix = np.array([[3, 1, 2], [6, 5, 4], [9, 8, 7]])\n",
    "sorted_matrix = np.sort(matrix, axis=0)  # Sort along columns (axis=0)\n",
    "print(sorted_matrix)"
   ]
  }
 ],
 "metadata": {
  "kernelspec": {
   "display_name": "Python 3 (ipykernel)",
   "language": "python",
   "name": "python3"
  },
  "language_info": {
   "codemirror_mode": {
    "name": "ipython",
    "version": 3
   },
   "file_extension": ".py",
   "mimetype": "text/x-python",
   "name": "python",
   "nbconvert_exporter": "python",
   "pygments_lexer": "ipython3",
   "version": "3.9.13"
  }
 },
 "nbformat": 4,
 "nbformat_minor": 5
}
