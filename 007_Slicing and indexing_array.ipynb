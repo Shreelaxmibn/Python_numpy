{
 "cells": [
  {
   "cell_type": "code",
   "execution_count": 1,
   "id": "59ac104a",
   "metadata": {},
   "outputs": [
    {
     "name": "stdout",
     "output_type": "stream",
     "text": [
      "3\n"
     ]
    }
   ],
   "source": [
    "my_list = [1, 2, 3, 4, 5]\n",
    "element = my_list[2]  # Access the element at position 2 (which is 3)\n",
    "print(element)  # Output: 3"
   ]
  },
  {
   "cell_type": "code",
   "execution_count": 2,
   "id": "b73cb3c9",
   "metadata": {},
   "outputs": [
    {
     "name": "stdout",
     "output_type": "stream",
     "text": [
      "5\n"
     ]
    }
   ],
   "source": [
    "my_list = [1, 2, 3, 4, 5]\n",
    "element = my_list[-1]  # Access the last element (which is 5)\n",
    "print(element)  # Output: 5"
   ]
  },
  {
   "cell_type": "code",
   "execution_count": 3,
   "id": "f2bbd769",
   "metadata": {},
   "outputs": [
    {
     "name": "stdout",
     "output_type": "stream",
     "text": [
      "[2, 3, 4]\n"
     ]
    }
   ],
   "source": [
    "my_list = [1, 2, 3, 4, 5]\n",
    "subset = my_list[1:4]  # Extract elements from index 1 to 3\n",
    "print(subset)  # Output: [2, 3, 4]"
   ]
  },
  {
   "cell_type": "code",
   "execution_count": 4,
   "id": "973a775d",
   "metadata": {},
   "outputs": [
    {
     "name": "stdout",
     "output_type": "stream",
     "text": [
      "[3, 4]\n"
     ]
    }
   ],
   "source": [
    "my_list = [1, 2, 3, 4, 5]\n",
    "subset = my_list[-3:-1]  # Extract elements from the third-to-last to the second-to-last\n",
    "print(subset)  # Output: [3, 4]"
   ]
  },
  {
   "cell_type": "code",
   "execution_count": 5,
   "id": "1f07b8b8",
   "metadata": {},
   "outputs": [
    {
     "name": "stdout",
     "output_type": "stream",
     "text": [
      "[1, 3, 5]\n"
     ]
    }
   ],
   "source": [
    "my_list = [1, 2, 3, 4, 5]\n",
    "subset = my_list[::2]  # Extract every second element\n",
    "print(subset)  # Output: [1, 3, 5]"
   ]
  },
  {
   "cell_type": "code",
   "execution_count": 7,
   "id": "cb46c967",
   "metadata": {},
   "outputs": [
    {
     "name": "stdout",
     "output_type": "stream",
     "text": [
      "[2 3 4]\n"
     ]
    }
   ],
   "source": [
    "my_array = np.array([1, 2, 3, 4, 5])\n",
    "subset = my_array[1:4]  # Slicing a NumPy array\n",
    "print(subset)  # Output: [2 3 4]"
   ]
  },
  {
   "cell_type": "code",
   "execution_count": null,
   "id": "55e74853",
   "metadata": {},
   "outputs": [],
   "source": []
  }
 ],
 "metadata": {
  "kernelspec": {
   "display_name": "Python 3 (ipykernel)",
   "language": "python",
   "name": "python3"
  },
  "language_info": {
   "codemirror_mode": {
    "name": "ipython",
    "version": 3
   },
   "file_extension": ".py",
   "mimetype": "text/x-python",
   "name": "python",
   "nbconvert_exporter": "python",
   "pygments_lexer": "ipython3",
   "version": "3.9.13"
  }
 },
 "nbformat": 4,
 "nbformat_minor": 5
}
