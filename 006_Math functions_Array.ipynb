{
 "cells": [
  {
   "cell_type": "code",
   "execution_count": 15,
   "id": "bb9a2056",
   "metadata": {},
   "outputs": [
    {
     "data": {
      "text/plain": [
       "array([1, 2, 3, 4, 5])"
      ]
     },
     "execution_count": 15,
     "metadata": {},
     "output_type": "execute_result"
    }
   ],
   "source": [
    "import numpy as np\n",
    "\n",
    "# Sample NumPy array for demonstration\n",
    "arr = np.array([1, 2, 3, 4, 5])\n",
    "arr"
   ]
  },
  {
   "cell_type": "code",
   "execution_count": 30,
   "id": "3977e4a3",
   "metadata": {},
   "outputs": [
    {
     "name": "stdout",
     "output_type": "stream",
     "text": [
      "[3 4 5 6 7]\n",
      "[-1  0  1  2  3]\n",
      "[ 2  4  6  8 10]\n",
      "[0.5 1.  1.5 2.  2.5]\n"
     ]
    }
   ],
   "source": [
    "# 1. Basic Arithmetic Operations\n",
    "addition = arr + 2  # Add a scalar to all elements\n",
    "print(addition)\n",
    "subtraction = arr - 2  # Subtract a scalar from all elements\n",
    "print(subtraction)\n",
    "multiplication = arr * 2  # Multiply all elements by a scalar\n",
    "print(multiplication)\n",
    "division = arr / 2  # Divide all elements by a scalar\n",
    "print(division)"
   ]
  },
  {
   "cell_type": "code",
   "execution_count": 17,
   "id": "61a73635",
   "metadata": {},
   "outputs": [],
   "source": [
    "# 2. Element-wise Mathematical Functions\n",
    "square = np.square(arr)  # Square each element\n",
    "sqrt = np.sqrt(arr)  # Square root of each element\n",
    "exp = np.exp(arr)  # Exponential of each element\n",
    "log = np.log(arr)  # Natural logarithm of each element"
   ]
  },
  {
   "cell_type": "code",
   "execution_count": 18,
   "id": "c302082f",
   "metadata": {},
   "outputs": [],
   "source": [
    "# 3. Trigonometric Functions\n",
    "sin_arr = np.sin(arr)  # Sine of each element\n",
    "cos_arr = np.cos(arr)  # Cosine of each element\n",
    "tan_arr = np.tan(arr)  # Tangent of each element"
   ]
  },
  {
   "cell_type": "code",
   "execution_count": 19,
   "id": "596d061e",
   "metadata": {},
   "outputs": [],
   "source": [
    "# 4. Statistical Functions\n",
    "mean_value = np.mean(arr)  # Mean (average) of elements\n",
    "median_value = np.median(arr)  # Median of elements\n",
    "std_deviation = np.std(arr)  # Standard deviation of elements"
   ]
  },
  {
   "cell_type": "code",
   "execution_count": 20,
   "id": "650a6000",
   "metadata": {},
   "outputs": [],
   "source": [
    "# 5. Rounding and Absolute Values\n",
    "round_arr = np.round(arr, decimals=2)  # Round elements to specified decimals\n",
    "abs_arr = np.abs(arr)  # Absolute values of elements"
   ]
  },
  {
   "cell_type": "code",
   "execution_count": 21,
   "id": "1b84efb6",
   "metadata": {},
   "outputs": [],
   "source": [
    "# 6. Element-wise Comparisons\n",
    "greater_than_3 = arr > 3  # Boolean array indicating elements greater than 3\n",
    "less_than_equal_to_2 = arr <= 2  # Boolean array indicating elements less than or equal to 2"
   ]
  },
  {
   "cell_type": "code",
   "execution_count": 22,
   "id": "b5ec8638",
   "metadata": {},
   "outputs": [],
   "source": [
    "# 7. Aggregation Functions\n",
    "sum_elements = np.sum(arr)  # Sum of all elements\n",
    "min_element = np.min(arr)  # Minimum element\n",
    "max_element = np.max(arr)  # Maximum element"
   ]
  },
  {
   "cell_type": "code",
   "execution_count": 23,
   "id": "4c8e387b",
   "metadata": {},
   "outputs": [],
   "source": [
    "# 8. Element-wise Operations on Multiple Arrays\n",
    "arr2 = np.array([2, 4, 6, 8, 10])\n",
    "elementwise_multiply = arr * arr2  # Multiply corresponding elements of two arrays\n"
   ]
  },
  {
   "cell_type": "code",
   "execution_count": 24,
   "id": "e6418ab6",
   "metadata": {},
   "outputs": [],
   "source": [
    "# 9. Random Number Generation\n",
    "random_numbers = np.random.rand(5)  # Generate 5 random numbers between 0 and 1"
   ]
  },
  {
   "cell_type": "code",
   "execution_count": 25,
   "id": "707ec943",
   "metadata": {},
   "outputs": [],
   "source": [
    "# 10. Sorting\n",
    "sorted_arr = np.sort(arr)  # Sort elements in ascending order\n",
    "argsort_arr = np.argsort(arr)  # Indices that would sort the array"
   ]
  },
  {
   "cell_type": "code",
   "execution_count": 26,
   "id": "19d3b60e",
   "metadata": {},
   "outputs": [],
   "source": [
    "# 11. Set Operations\n",
    "unique_values = np.unique(arr)  # Unique elements in the array\n",
    "intersection = np.intersect1d(arr, arr2)  # Intersection of two arrays\n",
    "union = np.union1d(arr, arr2)  # Union of two arrays"
   ]
  },
  {
   "cell_type": "code",
   "execution_count": 28,
   "id": "dcc2cae6",
   "metadata": {},
   "outputs": [
    {
     "data": {
      "text/plain": [
       "array([  1,   8,  27,  64, 125], dtype=int32)"
      ]
     },
     "execution_count": 28,
     "metadata": {},
     "output_type": "execute_result"
    }
   ],
   "source": [
    "# 12. Element-wise Power\n",
    "power = np.power(arr, 3)  # Raise each element to the power of 3\n",
    "power"
   ]
  },
  {
   "cell_type": "code",
   "execution_count": null,
   "id": "223dd388",
   "metadata": {},
   "outputs": [],
   "source": []
  }
 ],
 "metadata": {
  "kernelspec": {
   "display_name": "Python 3 (ipykernel)",
   "language": "python",
   "name": "python3"
  },
  "language_info": {
   "codemirror_mode": {
    "name": "ipython",
    "version": 3
   },
   "file_extension": ".py",
   "mimetype": "text/x-python",
   "name": "python",
   "nbconvert_exporter": "python",
   "pygments_lexer": "ipython3",
   "version": "3.9.13"
  }
 },
 "nbformat": 4,
 "nbformat_minor": 5
}
