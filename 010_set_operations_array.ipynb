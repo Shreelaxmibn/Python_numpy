{
 "cells": [
  {
   "cell_type": "code",
   "execution_count": 12,
   "id": "26b6c7af",
   "metadata": {},
   "outputs": [
    {
     "data": {
      "text/plain": [
       "array([1, 2, 3, 4, 5, 6, 7])"
      ]
     },
     "execution_count": 12,
     "metadata": {},
     "output_type": "execute_result"
    }
   ],
   "source": [
    "import numpy as np\n",
    "\n",
    "array1 = np.array([1, 2, 3, 4, 5])\n",
    "array2 = np.array([3, 4, 5, 6, 7])\n",
    "\n",
    "union_result = np.union1d(array1, array2)\n",
    "# Resulting union_result: [1 2 3 4 5 6 7]\n",
    "# we need to mention the dimension of array\n",
    "\n",
    "union_result"
   ]
  },
  {
   "cell_type": "code",
   "execution_count": 2,
   "id": "0c89ab26",
   "metadata": {},
   "outputs": [
    {
     "data": {
      "text/plain": [
       "array([3, 4, 5])"
      ]
     },
     "execution_count": 2,
     "metadata": {},
     "output_type": "execute_result"
    }
   ],
   "source": [
    "\n",
    "array1 = np.array([1, 2, 3, 4, 5])\n",
    "array2 = np.array([3, 4, 5, 6, 7])\n",
    "\n",
    "intersection_result = np.intersect1d(array1, array2)\n",
    "# Resulting intersection_result: [3 4 5]\n",
    "\n",
    "intersection_result"
   ]
  },
  {
   "cell_type": "code",
   "execution_count": 3,
   "id": "fbbe1ab4",
   "metadata": {},
   "outputs": [
    {
     "data": {
      "text/plain": [
       "array([1, 2])"
      ]
     },
     "execution_count": 3,
     "metadata": {},
     "output_type": "execute_result"
    }
   ],
   "source": [
    "array1 = np.array([1, 2, 3, 4, 5])\n",
    "array2 = np.array([3, 4, 5, 6, 7])\n",
    "\n",
    "difference_result = np.setdiff1d(array1, array2)\n",
    "# Resulting difference_result: [1 2]\n",
    "\n",
    "difference_result"
   ]
  },
  {
   "cell_type": "code",
   "execution_count": 4,
   "id": "f3d021df",
   "metadata": {},
   "outputs": [
    {
     "data": {
      "text/plain": [
       "array([1, 2, 6, 7])"
      ]
     },
     "execution_count": 4,
     "metadata": {},
     "output_type": "execute_result"
    }
   ],
   "source": [
    "array1 = np.array([1, 2, 3, 4, 5])\n",
    "array2 = np.array([3, 4, 5, 6, 7])\n",
    "\n",
    "symmetric_difference_result = np.setxor1d(array1, array2)\n",
    "# Resulting symmetric_difference_result: [1 2 6 7]\n",
    "\n",
    "\n",
    "symmetric_difference_result"
   ]
  },
  {
   "cell_type": "code",
   "execution_count": 5,
   "id": "a53251b0",
   "metadata": {},
   "outputs": [
    {
     "data": {
      "text/plain": [
       "array([1, 2, 3, 4, 5, 6, 7])"
      ]
     },
     "execution_count": 5,
     "metadata": {},
     "output_type": "execute_result"
    }
   ],
   "source": [
    "array = np.array([3, 1, 2, 3, 4, 2, 5, 6, 6, 7])\n",
    "unique_values = np.unique(array)\n",
    "# Resulting unique_values: [1 2 3 4 5 6 7]\n",
    "\n",
    "unique_values"
   ]
  },
  {
   "cell_type": "code",
   "execution_count": 6,
   "id": "04527b32",
   "metadata": {},
   "outputs": [
    {
     "data": {
      "text/plain": [
       "array([ True,  True])"
      ]
     },
     "execution_count": 6,
     "metadata": {},
     "output_type": "execute_result"
    }
   ],
   "source": [
    "array1 = np.array([1, 2, 3, 4, 5])\n",
    "array2 = np.array([2, 4])\n",
    "\n",
    "is_subset = np.in1d(array2, array1)\n",
    "# Resulting is_subset: [ True  True]\n",
    "\n",
    "is_subset"
   ]
  },
  {
   "cell_type": "code",
   "execution_count": 7,
   "id": "376e894b",
   "metadata": {},
   "outputs": [
    {
     "data": {
      "text/plain": [
       "array([False,  True, False,  True, False])"
      ]
     },
     "execution_count": 7,
     "metadata": {},
     "output_type": "execute_result"
    }
   ],
   "source": [
    "array1 = np.array([1, 2, 3, 4, 5])\n",
    "array2 = np.array([2, 4])\n",
    "\n",
    "is_superset = np.in1d(array1, array2)\n",
    "# Resulting is_superset: [False  True False  True False]\n",
    " \n",
    "is_superset"
   ]
  },
  {
   "cell_type": "code",
   "execution_count": 9,
   "id": "7e22bbf9",
   "metadata": {},
   "outputs": [
    {
     "name": "stdout",
     "output_type": "stream",
     "text": [
      "[1 2 3 4 5 6 7]\n",
      "[1 2 0 4 6 7 9]\n"
     ]
    }
   ],
   "source": [
    "array = np.array([3, 1, 2, 3, 4, 2, 5, 6, 6, 7])\n",
    "unique_values, unique_indices = np.unique(array, return_index=True)\n",
    "# Resulting unique_values: [1 2 3 4 5 6 7]\n",
    "# Resulting unique_indices: [1 2 0 4 6 7 8]\n",
    "\n",
    "print(unique_values)\n",
    "print(unique_indices)"
   ]
  },
  {
   "cell_type": "code",
   "execution_count": 10,
   "id": "f418159f",
   "metadata": {},
   "outputs": [
    {
     "name": "stdout",
     "output_type": "stream",
     "text": [
      "Minimum Value: 1\n",
      "Maximum Value: 9\n"
     ]
    }
   ],
   "source": [
    "# Create a 2D array (matrix)\n",
    "matrix = np.array([[1, 2, 3],\n",
    "                   [4, 5, 6],\n",
    "                   [7, 8, 9]])\n",
    "\n",
    "# Find the minimum and maximum values in the entire matrix\n",
    "min_value = np.min(matrix)\n",
    "max_value = np.max(matrix)\n",
    "\n",
    "print(\"Minimum Value:\", min_value)\n",
    "print(\"Maximum Value:\", max_value)\n"
   ]
  },
  {
   "cell_type": "code",
   "execution_count": 11,
   "id": "b9e7842c",
   "metadata": {},
   "outputs": [
    {
     "name": "stdout",
     "output_type": "stream",
     "text": [
      "Minimum Values Along Rows: [1 4 7]\n",
      "Maximum Values Along Rows: [3 6 9]\n",
      "Minimum Values Along Columns: [1 2 3]\n",
      "Maximum Values Along Columns: [7 8 9]\n"
     ]
    }
   ],
   "source": [
    "# Create a 2D array (matrix)\n",
    "matrix = np.array([[1, 2, 3],\n",
    "                   [4, 5, 6],\n",
    "                   [7, 8, 9]])\n",
    "\n",
    "# Find the minimum and maximum values along each row (axis=1)\n",
    "min_values_row = np.min(matrix, axis=1)\n",
    "max_values_row = np.max(matrix, axis=1)\n",
    "\n",
    "# Find the minimum and maximum values along each column (axis=0)\n",
    "min_values_column = np.min(matrix, axis=0)\n",
    "max_values_column = np.max(matrix, axis=0)\n",
    "\n",
    "print(\"Minimum Values Along Rows:\", min_values_row)\n",
    "print(\"Maximum Values Along Rows:\", max_values_row)\n",
    "print(\"Minimum Values Along Columns:\", min_values_column)\n",
    "print(\"Maximum Values Along Columns:\", max_values_column)\n"
   ]
  },
  {
   "cell_type": "code",
   "execution_count": null,
   "id": "4f899d73",
   "metadata": {},
   "outputs": [],
   "source": []
  }
 ],
 "metadata": {
  "kernelspec": {
   "display_name": "Python 3 (ipykernel)",
   "language": "python",
   "name": "python3"
  },
  "language_info": {
   "codemirror_mode": {
    "name": "ipython",
    "version": 3
   },
   "file_extension": ".py",
   "mimetype": "text/x-python",
   "name": "python",
   "nbconvert_exporter": "python",
   "pygments_lexer": "ipython3",
   "version": "3.9.13"
  }
 },
 "nbformat": 4,
 "nbformat_minor": 5
}
