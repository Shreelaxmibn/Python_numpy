{
 "cells": [
  {
   "cell_type": "code",
   "execution_count": 1,
   "id": "ffd5caf0",
   "metadata": {},
   "outputs": [
    {
     "data": {
      "text/plain": [
       "array([0.20353406, 0.83811857, 0.30850971, 0.59134173, 0.99422676,\n",
       "       0.52345299, 0.7306809 , 0.41271661, 0.46272586, 0.06472556])"
      ]
     },
     "execution_count": 1,
     "metadata": {},
     "output_type": "execute_result"
    }
   ],
   "source": [
    "import numpy as np\n",
    "\n",
    "# Generate 10 random values between 0 and 1\n",
    "random_values = np.random.uniform(0, 1, 10)\n",
    "random_values"
   ]
  },
  {
   "cell_type": "code",
   "execution_count": 2,
   "id": "40432238",
   "metadata": {},
   "outputs": [
    {
     "data": {
      "text/plain": [
       "array([-1.00111066, -0.64193095,  0.22161134, -1.5723769 ,  0.49681913,\n",
       "       -0.88363256,  0.93943229,  0.17647813, -2.17098224, -0.55687232])"
      ]
     },
     "execution_count": 2,
     "metadata": {},
     "output_type": "execute_result"
    }
   ],
   "source": [
    "\n",
    "# Generate 10 random values from a normal distribution with mean 0 and std 1\n",
    "random_values = np.random.normal(0, 1, 10)\n",
    "random_values"
   ]
  },
  {
   "cell_type": "code",
   "execution_count": 3,
   "id": "3d48647c",
   "metadata": {},
   "outputs": [
    {
     "data": {
      "text/plain": [
       "array([97, 22, 26, 69, 64, 58,  7, 73, 83, 75])"
      ]
     },
     "execution_count": 3,
     "metadata": {},
     "output_type": "execute_result"
    }
   ],
   "source": [
    "# Generate 10 random integers between 1 and 100 (inclusive)\n",
    "random_integers = np.random.randint(1, 101, 10)\n",
    "random_integers"
   ]
  },
  {
   "cell_type": "code",
   "execution_count": 8,
   "id": "91414e77",
   "metadata": {},
   "outputs": [
    {
     "data": {
      "text/plain": [
       "array([4, 5, 2, 1, 3])"
      ]
     },
     "execution_count": 8,
     "metadata": {},
     "output_type": "execute_result"
    }
   ],
   "source": [
    "# Create an array and shuffle its elements\n",
    "arr = np.array([1, 2, 3, 4, 5])\n",
    "shuffled_arr = np.random.permutation(arr)\n",
    "shuffled_arr"
   ]
  },
  {
   "cell_type": "code",
   "execution_count": 9,
   "id": "eeb2abfd",
   "metadata": {},
   "outputs": [
    {
     "data": {
      "text/plain": [
       "array([1, 3, 5, 1, 1])"
      ]
     },
     "execution_count": 9,
     "metadata": {},
     "output_type": "execute_result"
    }
   ],
   "source": [
    "# Sample 5 elements randomly with replacement from an array\n",
    "arr = np.array([1, 2, 3, 4, 5])\n",
    "random_samples = np.random.choice(arr, 5, replace=True)\n",
    "random_samples"
   ]
  },
  {
   "cell_type": "code",
   "execution_count": 10,
   "id": "faee9975",
   "metadata": {},
   "outputs": [
    {
     "data": {
      "text/plain": [
       "array([3, 5, 1])"
      ]
     },
     "execution_count": 10,
     "metadata": {},
     "output_type": "execute_result"
    }
   ],
   "source": [
    "# Sample 3 elements randomly without replacement from an array\n",
    "arr = np.array([1, 2, 3, 4, 5])\n",
    "random_samples = np.random.choice(arr, 3, replace=False)\n",
    "random_samples"
   ]
  },
  {
   "cell_type": "code",
   "execution_count": null,
   "id": "2edd6ea8",
   "metadata": {},
   "outputs": [],
   "source": []
  }
 ],
 "metadata": {
  "kernelspec": {
   "display_name": "Python 3 (ipykernel)",
   "language": "python",
   "name": "python3"
  },
  "language_info": {
   "codemirror_mode": {
    "name": "ipython",
    "version": 3
   },
   "file_extension": ".py",
   "mimetype": "text/x-python",
   "name": "python",
   "nbconvert_exporter": "python",
   "pygments_lexer": "ipython3",
   "version": "3.9.13"
  }
 },
 "nbformat": 4,
 "nbformat_minor": 5
}
